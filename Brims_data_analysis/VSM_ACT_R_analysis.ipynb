{
 "cells": [
  {
   "cell_type": "code",
   "execution_count": null,
   "id": "cb20801a",
   "metadata": {},
   "outputs": [],
   "source": [
    "import numpy as np\n",
    "import pandas as pd\n",
    "import matplotlib.pyplot as plt\n",
    "import seaborn as sns\n",
    "import scipy.stats as stats\n",
    "import sklearn\n",
    "#from sklearn.preprocessing import RobustScaler\n",
    "#from sklearn.gaussian_process import GaussianProcessRegressor\n",
    "#from sklearn.gaussian_process.kernels import DotProduct, WhiteKernel\n",
    "\n",
    "# If you are using Jupyter Notebook or Google Colab, you might also often use:\n",
    "%matplotlib inline\n",
    "\n",
    "print(\"Modules imported successfully!\")\n",
    "\n",
    "\n",
    "# Load the data from the uploaded Excel file\n",
    "file_path = './VSM_BRIMS_02.csv'\n",
    "data = pd.read_csv(file_path)\n",
    "\n",
    "# Display the first few rows of the dataframe to understand its structure\n",
    "data.head()"
   ]
  },
  {
   "cell_type": "code",
   "execution_count": null,
   "id": "0f702797",
   "metadata": {},
   "outputs": [],
   "source": [
    "# Plotting the decision type changes across 15 trials for two example participants (0 and 1)\n",
    "fig, ax = plt.subplots(figsize=(10, 6))\n",
    "\n",
    "# Select data for participants 0 and 1\n",
    "for participant in [0, 1]:\n",
    "    participant_data = data[data['participant'] == participant]\n",
    "    ax.plot(participant_data['trial'], participant_data['decision_type'], marker='o', linestyle='-', label=f'participant {participant}')\n",
    "\n",
    "# Setting plot attributes\n",
    "ax.set_xlabel('Trial')\n",
    "ax.set_ylabel('Decision Type')\n",
    "ax.set_title('Decision Type Changes Across Trials for Participants 0 and 1')\n",
    "ax.set_yticks([0, 1, 2])\n",
    "ax.set_yticklabels(['Novice', 'Intermediate', 'Expert'])\n",
    "ax.legend()\n",
    "\n",
    "# Show the plot\n",
    "plt.grid(True)\n",
    "plt.show()\n"
   ]
  },
  {
   "cell_type": "code",
   "execution_count": null,
   "id": "7e4a26cd",
   "metadata": {},
   "outputs": [],
   "source": [
    "import pandas as pd\n",
    "import statsmodels.formula.api as smf\n",
    "\n",
    "\n",
    "# Convert columns to appropriate types\n",
    "data['participant'] = data['participant'].astype('category')\n",
    "data['trial'] = data['trial'].astype(int)\n",
    "data['decision_type'] = data['decision_type'].astype(int)\n",
    "\n",
    "# Fit a mixed-effects logistic regression model\n",
    "model = smf.mixedlm(\"decision_type ~ trial\", data, groups=data[\"participant\"])\n",
    "result = model.fit()\n",
    "\n",
    "# Print the summary of the model\n",
    "print(result.summary())\n"
   ]
  },
  {
   "cell_type": "code",
   "execution_count": null,
   "id": "c4c4bd96",
   "metadata": {},
   "outputs": [],
   "source": [
    "import pandas as pd\n",
    "import statsmodels.api as sm\n",
    "from statsmodels.miscmodels.ordinal_model import OrderedModel\n",
    "\n",
    "# Sample data preparation (assuming your data is in a DataFrame called data)\n",
    "# Ensure data types are correct\n",
    "#data['participant'] = data['participant'].astype('category')\n",
    "data['trial'] = data['trial'].astype(int)\n",
    "\n",
    "# Check and handle missing values in decision_type\n",
    "data['decision_type'] = data['decision_type'].fillna(0).astype(int)\n",
    "\n",
    "# Ordered logistic regression model without adding a constant\n",
    "model = OrderedModel(data['decision_type'], \n",
    "                     data[['trial']], \n",
    "                     distr='logit')\n",
    "\n",
    "result = model.fit(method='bfgs', disp=False)\n",
    "\n",
    "print(result.summary())\n"
   ]
  }
 ],
 "metadata": {
  "kernelspec": {
   "display_name": "Python 3 (ipykernel)",
   "language": "python",
   "name": "python3"
  },
  "language_info": {
   "codemirror_mode": {
    "name": "ipython",
    "version": 3
   },
   "file_extension": ".py",
   "mimetype": "text/x-python",
   "name": "python",
   "nbconvert_exporter": "python",
   "pygments_lexer": "ipython3",
   "version": "3.11.4"
  }
 },
 "nbformat": 4,
 "nbformat_minor": 5
}
